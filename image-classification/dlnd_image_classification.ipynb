{
 "cells": [
  {
   "cell_type": "markdown",
   "metadata": {
    "collapsed": true,
    "deletable": true,
    "editable": true
   },
   "source": [
    "# Image Classification\n",
    "In this project, you'll classify images from the [CIFAR-10 dataset](https://www.cs.toronto.edu/~kriz/cifar.html).  The dataset consists of airplanes, dogs, cats, and other objects. You'll preprocess the images, then train a convolutional neural network on all the samples. The images need to be normalized and the labels need to be one-hot encoded.  You'll get to apply what you learned and build a convolutional, max pooling, dropout, and fully connected layers.  At the end, you'll get to see your neural network's predictions on the sample images.\n",
    "## Get the Data\n",
    "Run the following cell to download the [CIFAR-10 dataset for python](https://www.cs.toronto.edu/~kriz/cifar-10-python.tar.gz)."
   ]
  },
  {
   "cell_type": "code",
   "execution_count": 39,
   "metadata": {
    "collapsed": false,
    "deletable": true,
    "editable": true
   },
   "outputs": [
    {
     "name": "stdout",
     "output_type": "stream",
     "text": [
      "All files found!\n"
     ]
    }
   ],
   "source": [
    "\"\"\"\n",
    "DON'T MODIFY ANYTHING IN THIS CELL THAT IS BELOW THIS LINE\n",
    "\"\"\"\n",
    "from urllib.request import urlretrieve\n",
    "from os.path import isfile, isdir\n",
    "from tqdm import tqdm\n",
    "import problem_unittests as tests\n",
    "import tarfile\n",
    "\n",
    "cifar10_dataset_folder_path = 'cifar-10-batches-py'\n",
    "\n",
    "# Use Floyd's cifar-10 dataset if present\n",
    "floyd_cifar10_location = '/cifar/cifar-10-python.tar.gz'\n",
    "if isfile(floyd_cifar10_location):\n",
    "    tar_gz_path = floyd_cifar10_location\n",
    "else:\n",
    "    tar_gz_path = 'cifar-10-python.tar.gz'\n",
    "\n",
    "class DLProgress(tqdm):\n",
    "    last_block = 0\n",
    "\n",
    "    def hook(self, block_num=1, block_size=1, total_size=None):\n",
    "        self.total = total_size\n",
    "        self.update((block_num - self.last_block) * block_size)\n",
    "        self.last_block = block_num\n",
    "\n",
    "if not isfile(tar_gz_path):\n",
    "    with DLProgress(unit='B', unit_scale=True, miniters=1, desc='CIFAR-10 Dataset') as pbar:\n",
    "        urlretrieve(\n",
    "            'https://www.cs.toronto.edu/~kriz/cifar-10-python.tar.gz',\n",
    "            tar_gz_path,\n",
    "            pbar.hook)\n",
    "\n",
    "if not isdir(cifar10_dataset_folder_path):\n",
    "    with tarfile.open(tar_gz_path) as tar:\n",
    "        tar.extractall()\n",
    "        tar.close()\n",
    "\n",
    "\n",
    "tests.test_folder_path(cifar10_dataset_folder_path)"
   ]
  },
  {
   "cell_type": "markdown",
   "metadata": {
    "deletable": true,
    "editable": true
   },
   "source": [
    "## Explore the Data\n",
    "The dataset is broken into batches to prevent your machine from running out of memory.  The CIFAR-10 dataset consists of 5 batches, named `data_batch_1`, `data_batch_2`, etc.. Each batch contains the labels and images that are one of the following:\n",
    "* airplane\n",
    "* automobile\n",
    "* bird\n",
    "* cat\n",
    "* deer\n",
    "* dog\n",
    "* frog\n",
    "* horse\n",
    "* ship\n",
    "* truck\n",
    "\n",
    "Understanding a dataset is part of making predictions on the data.  Play around with the code cell below by changing the `batch_id` and `sample_id`. The `batch_id` is the id for a batch (1-5). The `sample_id` is the id for a image and label pair in the batch.\n",
    "\n",
    "Ask yourself \"What are all possible labels?\", \"What is the range of values for the image data?\", \"Are the labels in order or random?\".  Answers to questions like these will help you preprocess the data and end up with better predictions."
   ]
  },
  {
   "cell_type": "code",
   "execution_count": 40,
   "metadata": {
    "collapsed": false,
    "deletable": true,
    "editable": true
   },
   "outputs": [
    {
     "name": "stdout",
     "output_type": "stream",
     "text": [
      "\n",
      "Stats of batch 1:\n",
      "Samples: 10000\n",
      "Label Counts: {0: 1005, 1: 974, 2: 1032, 3: 1016, 4: 999, 5: 937, 6: 1030, 7: 1001, 8: 1025, 9: 981}\n",
      "First 20 Labels: [6, 9, 9, 4, 1, 1, 2, 7, 8, 3, 4, 7, 7, 2, 9, 9, 9, 3, 2, 6]\n",
      "\n",
      "Example of Image 5:\n",
      "Image - Min Value: 0 Max Value: 252\n",
      "Image - Shape: (32, 32, 3)\n",
      "Label - Label Id: 1 Name: automobile\n"
     ]
    },
    {
     "data": {
      "image/png": "[encoded data removed]",
      "text/plain": [
       "<matplotlib.figure.Figure at 0x7fea712c6860>"
      ]
     },
     "metadata": {
      "image/png": {
       "height": 250,
       "width": 253
      }
     },
     "output_type": "display_data"
    }
   ],
   "source": [
    "%matplotlib inline\n",
    "%config InlineBackend.figure_format = 'retina'\n",
    "\n",
    "import helper\n",
    "import numpy as np\n",
    "\n",
    "# Explore the dataset\n",
    "batch_id = 1\n",
    "sample_id = 5\n",
    "helper.display_stats(cifar10_dataset_folder_path, batch_id, sample_id)"
   ]
  },
  {
   "cell_type": "markdown",
   "metadata": {
    "deletable": true,
    "editable": true
   },
   "source": [
    "## Implement Preprocess Functions\n",
    "### Normalize\n",
    "In the cell below, implement the `normalize` function to take in image data, `x`, and return it as a normalized Numpy array. The values should be in the range of 0 to 1, inclusive.  The return object should be the same shape as `x`."
   ]
  },
  {
   "cell_type": "code",
   "execution_count": 41,
   "metadata": {
    "collapsed": false,
    "deletable": true,
    "editable": true
   },
   "outputs": [
    {
     "name": "stdout",
     "output_type": "stream",
     "text": [
      "Tests Passed\n"
     ]
    }
   ],
   "source": [
    "def normalize(x):\n",
    "    \"\"\"\n",
    "    Normalize a list of sample image data in the range of 0 to 1\n",
    "    : x: List of image data.  The image shape is (32, 32, 3)\n",
    "    : return: Numpy array of normalize data\n",
    "    \"\"\"\n",
    "    # TODO: Implement Function\n",
    "    return (x - np.min(x)) / (np.max(x) - np.min(x))\n",
    "\n",
    "\n",
    "\"\"\"\n",
    "DON'T MODIFY ANYTHING IN THIS CELL THAT IS BELOW THIS LINE\n",
    "\"\"\"\n",
    "tests.test_normalize(normalize)"
   ]
  },
  {
   "cell_type": "markdown",
   "metadata": {
    "deletable": true,
    "editable": true
   },
   "source": [
    "### One-hot encode\n",
    "Just like the previous code cell, you'll be implementing a function for preprocessing.  This time, you'll implement the `one_hot_encode` function. The input, `x`, are a list of labels.  Implement the function to return the list of labels as One-Hot encoded Numpy array.  The possible values for labels are 0 to 9. The one-hot encoding function should return the same encoding for each value between each call to `one_hot_encode`.  Make sure to save the map of encodings outside the function.\n",
    "\n",
    "Hint: Don't reinvent the wheel."
   ]
  },
  {
   "cell_type": "code",
   "execution_count": 42,
   "metadata": {
    "collapsed": false,
    "deletable": true,
    "editable": true
   },
   "outputs": [
    {
     "name": "stdout",
     "output_type": "stream",
     "text": [
      "Tests Passed\n"
     ]
    }
   ],
   "source": [
    "def one_hot_encode(x):\n",
    "    \"\"\"\n",
    "    One hot encode a list of sample labels. Return a one-hot encoded vector for each label.\n",
    "    : x: List of sample Labels\n",
    "    : return: Numpy array of one-hot encoded labels\n",
    "    \"\"\"\n",
    "    # TODO: Implement Function\n",
    "    one_hot = np.zeros((len(x), 10))\n",
    "    one_hot[np.arange(len(x)), x] = 1\n",
    "    return one_hot\n",
    "\n",
    "\n",
    "\"\"\"\n",
    "DON'T MODIFY ANYTHING IN THIS CELL THAT IS BELOW THIS LINE\n",
    "\"\"\"\n",
    "tests.test_one_hot_encode(one_hot_encode)"
   ]
  },
  {
   "cell_type": "markdown",
   "metadata": {
    "deletable": true,
    "editable": true
   },
   "source": [
    "### Randomize Data\n",
    "As you saw from exploring the data above, the order of the samples are randomized.  It doesn't hurt to randomize it again, but you don't need to for this dataset."
   ]
  },
  {
   "cell_type": "markdown",
   "metadata": {
    "deletable": true,
    "editable": true
   },
   "source": [
    "## Preprocess all the data and save it\n",
    "Running the code cell below will preprocess all the CIFAR-10 data and save it to file. The code below also uses 10% of the training data for validation."
   ]
  },
  {
   "cell_type": "code",
   "execution_count": 43,
   "metadata": {
    "collapsed": true,
    "deletable": true,
    "editable": true
   },
   "outputs": [],
   "source": [
    "\"\"\"\n",
    "DON'T MODIFY ANYTHING IN THIS CELL\n",
    "\"\"\"\n",
    "# Preprocess Training, Validation, and Testing Data\n",
    "helper.preprocess_and_save_data(cifar10_dataset_folder_path, normalize, one_hot_encode)"
   ]
  },
  {
   "cell_type": "markdown",
   "metadata": {
    "deletable": true,
    "editable": true
   },
   "source": [
    "# Check Point\n",
    "This is your first checkpoint.  If you ever decide to come back to this notebook or have to restart the notebook, you can start from here.  The preprocessed data has been saved to disk."
   ]
  },
  {
   "cell_type": "code",
   "execution_count": 1,
   "metadata": {
    "collapsed": true,
    "deletable": true,
    "editable": true
   },
   "outputs": [],
   "source": [
    "\"\"\"\n",
    "DON'T MODIFY ANYTHING IN THIS CELL\n",
    "\"\"\"\n",
    "import pickle\n",
    "import problem_unittests as tests\n",
    "import helper\n",
    "\n",
    "# Load the Preprocessed Validation data\n",
    "valid_features, valid_labels = pickle.load(open('preprocess_validation.p', mode='rb'))"
   ]
  },
  {
   "cell_type": "markdown",
   "metadata": {
    "deletable": true,
    "editable": true
   },
   "source": [
    "## Build the network\n",
    "For the neural network, you'll build each layer into a function.  Most of the code you've seen has been outside of functions. To test your code more thoroughly, we require that you put each layer in a function.  This allows us to give you better feedback and test for simple mistakes using our unittests before you submit your project.\n",
    "\n",
    ">**Note:** If you're finding it hard to dedicate enough time for this course each week, we've provided a small shortcut to this part of the project. In the next couple of problems, you'll have the option to use classes from the [TensorFlow Layers](https://www.tensorflow.org/api_docs/python/tf/layers) or [TensorFlow Layers (contrib)](https://www.tensorflow.org/api_guides/python/contrib.layers) packages to build each layer, except the layers you build in the \"Convolutional and Max Pooling Layer\" section.  TF Layers is similar to Keras's and TFLearn's abstraction to layers, so it's easy to pickup.\n",
    "\n",
    ">However, if you would like to get the most out of this course, try to solve all the problems _without_ using anything from the TF Layers packages. You **can** still use classes from other packages that happen to have the same name as ones you find in TF Layers! For example, instead of using the TF Layers version of the `conv2d` class, [tf.layers.conv2d](https://www.tensorflow.org/api_docs/python/tf/layers/conv2d), you would want to use the TF Neural Network version of `conv2d`, [tf.nn.conv2d](https://www.tensorflow.org/api_docs/python/tf/nn/conv2d). \n",
    "\n",
    "Let's begin!\n",
    "\n",
    "### Input\n",
    "The neural network needs to read the image data, one-hot encoded labels, and dropout keep probability. Implement the following functions\n",
    "* Implement `neural_net_image_input`\n",
    " * Return a [TF Placeholder](https://www.tensorflow.org/api_docs/python/tf/placeholder)\n",
    " * Set the shape using `image_shape` with batch size set to `None`.\n",
    " * Name the TensorFlow placeholder \"x\" using the TensorFlow `name` parameter in the [TF Placeholder](https://www.tensorflow.org/api_docs/python/tf/placeholder).\n",
    "* Implement `neural_net_label_input`\n",
    " * Return a [TF Placeholder](https://www.tensorflow.org/api_docs/python/tf/placeholder)\n",
    " * Set the shape using `n_classes` with batch size set to `None`.\n",
    " * Name the TensorFlow placeholder \"y\" using the TensorFlow `name` parameter in the [TF Placeholder](https://www.tensorflow.org/api_docs/python/tf/placeholder).\n",
    "* Implement `neural_net_keep_prob_input`\n",
    " * Return a [TF Placeholder](https://www.tensorflow.org/api_docs/python/tf/placeholder) for dropout keep probability.\n",
    " * Name the TensorFlow placeholder \"keep_prob\" using the TensorFlow `name` parameter in the [TF Placeholder](https://www.tensorflow.org/api_docs/python/tf/placeholder).\n",
    "\n",
    "These names will be used at the end of the project to load your saved model.\n",
    "\n",
    "Note: `None` for shapes in TensorFlow allow for a dynamic size."
   ]
  },
  {
   "cell_type": "code",
   "execution_count": 2,
   "metadata": {
    "collapsed": false,
    "deletable": true,
    "editable": true
   },
   "outputs": [
    {
     "name": "stdout",
     "output_type": "stream",
     "text": [
      "Image Input Tests Passed.\n",
      "Label Input Tests Passed.\n",
      "Keep Prob Tests Passed.\n"
     ]
    }
   ],
   "source": [
    "import os \n",
    "os.environ['CUDA_VISIBLE_DEVICES'] = '3'\n",
    "import tensorflow as tf\n",
    "\n",
    "def neural_net_image_input(image_shape):\n",
    "    \"\"\"\n",
    "    Return a Tensor for a batch of image input\n",
    "    : image_shape: Shape of the images\n",
    "    : return: Tensor for image input.\n",
    "    \"\"\"\n",
    "    # TODO: Implement Function\n",
    "    return tf.placeholder(tf.float32, shape=(None, *image_shape), name='x')\n",
    "\n",
    "\n",
    "def neural_net_label_input(n_classes):\n",
    "    \"\"\"\n",
    "    Return a Tensor for a batch of label input\n",
    "    : n_classes: Number of classes\n",
    "    : return: Tensor for label input.\n",
    "    \"\"\"\n",
    "    # TODO: Implement Function\n",
    "    return tf.placeholder(tf.float32, shape=(None, n_classes), name='y')\n",
    "\n",
    "\n",
    "def neural_net_keep_prob_input():\n",
    "    \"\"\"\n",
    "    Return a Tensor for keep probability\n",
    "    : return: Tensor for keep probability.\n",
    "    \"\"\"\n",
    "    # TODO: Implement Function\n",
    "    return tf.placeholder(tf.float32, name='keep_prob')\n",
    "\n",
    "\n",
    "\"\"\"\n",
    "DON'T MODIFY ANYTHING IN THIS CELL THAT IS BELOW THIS LINE\n",
    "\"\"\"\n",
    "tf.reset_default_graph()\n",
    "tests.test_nn_image_inputs(neural_net_image_input)\n",
    "tests.test_nn_label_inputs(neural_net_label_input)\n",
    "tests.test_nn_keep_prob_inputs(neural_net_keep_prob_input)"
   ]
  },
  {
   "cell_type": "markdown",
   "metadata": {
    "deletable": true,
    "editable": true
   },
   "source": [
    "### Convolution and Max Pooling Layer\n",
    "Convolution layers have a lot of success with images. For this code cell, you should implement the function `conv2d_maxpool` to apply convolution then max pooling:\n",
    "* Create the weight and bias using `conv_ksize`, `conv_num_outputs` and the shape of `x_tensor`.\n",
    "* Apply a convolution to `x_tensor` using weight and `conv_strides`.\n",
    " * We recommend you use same padding, but you're welcome to use any padding.\n",
    "* Add bias\n",
    "* Add a nonlinear activation to the convolution.\n",
    "* Apply Max Pooling using `pool_ksize` and `pool_strides`.\n",
    " * We recommend you use same padding, but you're welcome to use any padding.\n",
    "\n",
    "**Note:** You **can't** use [TensorFlow Layers](https://www.tensorflow.org/api_docs/python/tf/layers) or [TensorFlow Layers (contrib)](https://www.tensorflow.org/api_guides/python/contrib.layers) for **this** layer, but you can still use TensorFlow's [Neural Network](https://www.tensorflow.org/api_docs/python/tf/nn) package. You may still use the shortcut option for all the **other** layers."
   ]
  },
  {
   "cell_type": "code",
   "execution_count": 3,
   "metadata": {
    "collapsed": false,
    "deletable": true,
    "editable": true
   },
   "outputs": [
    {
     "name": "stdout",
     "output_type": "stream",
     "text": [
      "Tests Passed\n"
     ]
    }
   ],
   "source": [
    "def conv2d_maxpool(x_tensor, conv_num_outputs, conv_ksize, conv_strides, pool_ksize, pool_strides):\n",
    "    \"\"\"\n",
    "    Apply convolution then max pooling to x_tensor\n",
    "    :param x_tensor: TensorFlow Tensor\n",
    "    :param conv_num_outputs: Number of outputs for the convolutional layer\n",
    "    :param conv_ksize: kernal size 2-D Tuple for the convolutional layer\n",
    "    :param conv_strides: Stride 2-D Tuple for convolution\n",
    "    :param pool_ksize: kernal size 2-D Tuple for pool\n",
    "    :param pool_strides: Stride 2-D Tuple for pool\n",
    "    : return: A tensor that represents convolution and max pooling of x_tensor\n",
    "    \"\"\"\n",
    "    # TODO: Implement Function\n",
    "    \n",
    "    color_channels = x_tensor.shape[3].value\n",
    "    weights = tf.Variable(tf.truncated_normal([conv_ksize[0], conv_ksize[1], color_channels, conv_num_outputs], mean=0, stddev=0.1))\n",
    "    bias = tf.Variable(tf.zeros(conv_num_outputs))\n",
    "    \n",
    "    \n",
    "    layer = tf.nn.conv2d(x_tensor, weights, strides=[1, conv_strides[0], conv_strides[1], 1], padding='SAME')\n",
    "    \n",
    "    layer = tf.nn.bias_add(layer, bias)\n",
    "    \n",
    "    layer = tf.nn.relu(layer)\n",
    "    \n",
    "    layer = tf.nn.max_pool(layer, ksize=[1, pool_ksize[0], pool_ksize[1], 1], strides=[1, pool_strides[0], pool_strides[1], 1], padding='SAME')\n",
    "\n",
    "    return layer\n",
    "\n",
    "\n",
    "\"\"\"\n",
    "DON'T MODIFY ANYTHING IN THIS CELL THAT IS BELOW THIS LINE\n",
    "\"\"\"\n",
    "tests.test_con_pool(conv2d_maxpool)"
   ]
  },
  {
   "cell_type": "markdown",
   "metadata": {
    "deletable": true,
    "editable": true
   },
   "source": [
    "### Flatten Layer\n",
    "Implement the `flatten` function to change the dimension of `x_tensor` from a 4-D tensor to a 2-D tensor.  The output should be the shape (*Batch Size*, *Flattened Image Size*). Shortcut option: you can use classes from the [TensorFlow Layers](https://www.tensorflow.org/api_docs/python/tf/layers) or [TensorFlow Layers (contrib)](https://www.tensorflow.org/api_guides/python/contrib.layers) packages for this layer. For more of a challenge, only use other TensorFlow packages."
   ]
  },
  {
   "cell_type": "code",
   "execution_count": 4,
   "metadata": {
    "collapsed": false,
    "deletable": true,
    "editable": true
   },
   "outputs": [
    {
     "name": "stdout",
     "output_type": "stream",
     "text": [
      "Tests Passed\n"
     ]
    }
   ],
   "source": [
    "def flatten(x_tensor):\n",
    "    \"\"\"\n",
    "    Flatten x_tensor to (Batch Size, Flattened Image Size)\n",
    "    : x_tensor: A tensor of size (Batch Size, ...), where ... are the image dimensions.\n",
    "    : return: A tensor of size (Batch Size, Flattened Image Size).\n",
    "    \"\"\"\n",
    "    # TODO: Implement Function\n",
    "    return tf.contrib.layers.flatten(x_tensor)\n",
    "\n",
    "\n",
    "\"\"\"\n",
    "DON'T MODIFY ANYTHING IN THIS CELL THAT IS BELOW THIS LINE\n",
    "\"\"\"\n",
    "tests.test_flatten(flatten)"
   ]
  },
  {
   "cell_type": "markdown",
   "metadata": {
    "deletable": true,
    "editable": true
   },
   "source": [
    "### Fully-Connected Layer\n",
    "Implement the `fully_conn` function to apply a fully connected layer to `x_tensor` with the shape (*Batch Size*, *num_outputs*). Shortcut option: you can use classes from the [TensorFlow Layers](https://www.tensorflow.org/api_docs/python/tf/layers) or [TensorFlow Layers (contrib)](https://www.tensorflow.org/api_guides/python/contrib.layers) packages for this layer. For more of a challenge, only use other TensorFlow packages."
   ]
  },
  {
   "cell_type": "code",
   "execution_count": 5,
   "metadata": {
    "collapsed": false,
    "deletable": true,
    "editable": true
   },
   "outputs": [
    {
     "name": "stdout",
     "output_type": "stream",
     "text": [
      "Tests Passed\n"
     ]
    }
   ],
   "source": [
    "def fully_conn(x_tensor, num_outputs):\n",
    "    \"\"\"\n",
    "    Apply a fully connected layer to x_tensor using weight and bias\n",
    "    : x_tensor: A 2-D tensor where the first dimension is batch size.\n",
    "    : num_outputs: The number of output that the new tensor should be.\n",
    "    : return: A 2-D tensor where the second dimension is num_outputs.\n",
    "    \"\"\"\n",
    "    # TODO: Implement Function\n",
    "    size = x_tensor.shape[1].value\n",
    "    weights = tf.Variable(tf.truncated_normal([size, num_outputs], mean=0, stddev=0.1))\n",
    "    bias = tf.Variable(tf.zeros(num_outputs))\n",
    "    \n",
    "    layer = tf.matmul(x_tensor, weights)\n",
    "\n",
    "    layer = tf.nn.bias_add(layer, bias)\n",
    "\n",
    "    layer = tf.nn.relu(layer)\n",
    "   \n",
    "    return layer\n",
    "\n",
    "\n",
    "\"\"\"\n",
    "DON'T MODIFY ANYTHING IN THIS CELL THAT IS BELOW THIS LINE\n",
    "\"\"\"\n",
    "tests.test_fully_conn(fully_conn)"
   ]
  },
  {
   "cell_type": "markdown",
   "metadata": {
    "deletable": true,
    "editable": true
   },
   "source": [
    "### Output Layer\n",
    "Implement the `output` function to apply a fully connected layer to `x_tensor` with the shape (*Batch Size*, *num_outputs*). Shortcut option: you can use classes from the [TensorFlow Layers](https://www.tensorflow.org/api_docs/python/tf/layers) or [TensorFlow Layers (contrib)](https://www.tensorflow.org/api_guides/python/contrib.layers) packages for this layer. For more of a challenge, only use other TensorFlow packages.\n",
    "\n",
    "**Note:** Activation, softmax, or cross entropy should **not** be applied to this."
   ]
  },
  {
   "cell_type": "code",
   "execution_count": 7,
   "metadata": {
    "collapsed": false,
    "deletable": true,
    "editable": true
   },
   "outputs": [
    {
     "name": "stdout",
     "output_type": "stream",
     "text": [
      "Tests Passed\n"
     ]
    }
   ],
   "source": [
    "def output(x_tensor, num_outputs):\n",
    "    \"\"\"\n",
    "    Apply a output layer to x_tensor using weight and bias\n",
    "    : x_tensor: A 2-D tensor where the first dimension is batch size.\n",
    "    : num_outputs: The number of output that the new tensor should be.\n",
    "    : return: A 2-D tensor where the second dimension is num_outputs.\n",
    "    \"\"\"\n",
    "    # TODO: Implement Function\n",
    "    \n",
    "    size = x_tensor.shape[1].value\n",
    "    weights = tf.Variable(tf.truncated_normal([size, num_outputs], mean=0, stddev=0.1))\n",
    "    bias = tf.Variable(tf.zeros(num_outputs))\n",
    "\n",
    "    layer = tf.matmul(x_tensor, weights)\n",
    "\n",
    "    layer = tf.nn.bias_add(layer, bias)\n",
    "\n",
    "    return layer\n",
    "\n",
    "\n",
    "\"\"\"\n",
    "DON'T MODIFY ANYTHING IN THIS CELL THAT IS BELOW THIS LINE\n",
    "\"\"\"\n",
    "tests.test_output(output)"
   ]
  },
  {
   "cell_type": "markdown",
   "metadata": {
    "deletable": true,
    "editable": true
   },
   "source": [
    "### Create Convolutional Model\n",
    "Implement the function `conv_net` to create a convolutional neural network model. The function takes in a batch of images, `x`, and outputs logits.  Use the layers you created above to create this model:\n",
    "\n",
    "* Apply 1, 2, or 3 Convolution and Max Pool layers\n",
    "* Apply a Flatten Layer\n",
    "* Apply 1, 2, or 3 Fully Connected Layers\n",
    "* Apply an Output Layer\n",
    "* Return the output\n",
    "* Apply [TensorFlow's Dropout](https://www.tensorflow.org/api_docs/python/tf/nn/dropout) to one or more layers in the model using `keep_prob`. "
   ]
  },
  {
   "cell_type": "code",
   "execution_count": 8,
   "metadata": {
    "collapsed": false,
    "deletable": true,
    "editable": true
   },
   "outputs": [
    {
     "name": "stdout",
     "output_type": "stream",
     "text": [
      "Neural Network Built!\n"
     ]
    }
   ],
   "source": [
    "def conv_net(x, keep_prob):\n",
    "    \"\"\"\n",
    "    Create a convolutional neural network model\n",
    "    : x: Placeholder tensor that holds image data.\n",
    "    : keep_prob: Placeholder tensor that hold dropout keep probability.\n",
    "    : return: Tensor that represents logits\n",
    "    \"\"\"\n",
    "    # TODO: Apply 1, 2, or 3 Convolution and Max Pool layers\n",
    "    #    Play around with different number of outputs, kernel size and stride\n",
    "    # Function Definition from Above:\n",
    "    #    conv2d_maxpool(x_tensor, conv_num_outputs, conv_ksize, conv_strides, pool_ksize, pool_strides)\n",
    "    conv_ksize = (3, 3)\n",
    "    pool_ksize = (2, 2)\n",
    "    pool_strides = (2, 2)\n",
    "    \n",
    "    x = conv2d_maxpool(x, 16, conv_ksize, (1, 1), pool_ksize, pool_strides)\n",
    "    x = conv2d_maxpool(x, 32, conv_ksize, (2, 2), pool_ksize, pool_strides)\n",
    "    x = conv2d_maxpool(x, 64, conv_ksize, (1, 1), pool_ksize, pool_strides)\n",
    "\n",
    "    # TODO: Apply a Flatten Layer\n",
    "    # Function Definition from Above:\n",
    "    #   flatten(x_tensor)\n",
    "    x = flatten(x)\n",
    "    \n",
    "\n",
    "    # TODO: Apply 1, 2, or 3 Fully Connected Layers\n",
    "    #    Play around with different number of outputs\n",
    "    # Function Definition from Above:\n",
    "    #   fully_conn(x_tensor, num_outputs)\n",
    "    x = fully_conn(x, 10)\n",
    "    x = tf.nn.dropout(x, keep_prob)\n",
    "    \n",
    "    \n",
    "    # TODO: Apply an Output Layer\n",
    "    #    Set this to the number of classes\n",
    "    # Function Definition from Above:\n",
    "    #   output(x_tensor, num_outputs)\n",
    "    out = output(x, 10)\n",
    "    \n",
    "    \n",
    "    # TODO: return output\n",
    "    return out\n",
    "\n",
    "\n",
    "\"\"\"\n",
    "DON'T MODIFY ANYTHING IN THIS CELL THAT IS BELOW THIS LINE\n",
    "\"\"\"\n",
    "\n",
    "##############################\n",
    "## Build the Neural Network ##\n",
    "##############################\n",
    "\n",
    "# Remove previous weights, bias, inputs, etc..\n",
    "tf.reset_default_graph()\n",
    "\n",
    "# Inputs\n",
    "x = neural_net_image_input((32, 32, 3))\n",
    "y = neural_net_label_input(10)\n",
    "keep_prob = neural_net_keep_prob_input()\n",
    "\n",
    "# Model\n",
    "logits = conv_net(x, keep_prob)\n",
    "\n",
    "# Name logits Tensor, so that is can be loaded from disk after training\n",
    "logits = tf.identity(logits, name='logits')\n",
    "\n",
    "# Loss and Optimizer\n",
    "cost = tf.reduce_mean(tf.nn.softmax_cross_entropy_with_logits(logits=logits, labels=y))\n",
    "optimizer = tf.train.AdamOptimizer().minimize(cost)\n",
    "\n",
    "# Accuracy\n",
    "correct_pred = tf.equal(tf.argmax(logits, 1), tf.argmax(y, 1))\n",
    "accuracy = tf.reduce_mean(tf.cast(correct_pred, tf.float32), name='accuracy')\n",
    "\n",
    "tests.test_conv_net(conv_net)"
   ]
  },
  {
   "cell_type": "markdown",
   "metadata": {
    "deletable": true,
    "editable": true
   },
   "source": [
    "## Train the Neural Network\n",
    "### Single Optimization\n",
    "Implement the function `train_neural_network` to do a single optimization.  The optimization should use `optimizer` to optimize in `session` with a `feed_dict` of the following:\n",
    "* `x` for image input\n",
    "* `y` for labels\n",
    "* `keep_prob` for keep probability for dropout\n",
    "\n",
    "This function will be called for each batch, so `tf.global_variables_initializer()` has already been called.\n",
    "\n",
    "Note: Nothing needs to be returned. This function is only optimizing the neural network."
   ]
  },
  {
   "cell_type": "code",
   "execution_count": 9,
   "metadata": {
    "collapsed": false,
    "deletable": true,
    "editable": true
   },
   "outputs": [
    {
     "name": "stdout",
     "output_type": "stream",
     "text": [
      "Tests Passed\n"
     ]
    }
   ],
   "source": [
    "def train_neural_network(session, optimizer, keep_probability, feature_batch, label_batch):\n",
    "    \"\"\"\n",
    "    Optimize the session on a batch of images and labels\n",
    "    : session: Current TensorFlow session\n",
    "    : optimizer: TensorFlow optimizer function\n",
    "    : keep_probability: keep probability\n",
    "    : feature_batch: Batch of Numpy image data\n",
    "    : label_batch: Batch of Numpy label data\n",
    "    \"\"\"\n",
    "    # TODO: Implement Function\n",
    "    session.run(optimizer, feed_dict={\n",
    "        x: feature_batch, \n",
    "        y: label_batch, \n",
    "        keep_prob: keep_probability\n",
    "    })\n",
    "\n",
    "\n",
    "\"\"\"\n",
    "DON'T MODIFY ANYTHING IN THIS CELL THAT IS BELOW THIS LINE\n",
    "\"\"\"\n",
    "tests.test_train_nn(train_neural_network)"
   ]
  },
  {
   "cell_type": "markdown",
   "metadata": {
    "deletable": true,
    "editable": true
   },
   "source": [
    "### Show Stats\n",
    "Implement the function `print_stats` to print loss and validation accuracy.  Use the global variables `valid_features` and `valid_labels` to calculate validation accuracy.  Use a keep probability of `1.0` to calculate the loss and validation accuracy."
   ]
  },
  {
   "cell_type": "code",
   "execution_count": 10,
   "metadata": {
    "collapsed": true,
    "deletable": true,
    "editable": true
   },
   "outputs": [],
   "source": [
    "def print_stats(session, feature_batch, label_batch, cost, accuracy):\n",
    "    \"\"\"\n",
    "    Print information about loss and validation accuracy\n",
    "    : session: Current TensorFlow session\n",
    "    : feature_batch: Batch of Numpy image data\n",
    "    : label_batch: Batch of Numpy label data\n",
    "    : cost: TensorFlow cost function\n",
    "    : accuracy: TensorFlow accuracy function\n",
    "    \"\"\"\n",
    "    # TODO: Implement Function\n",
    "    loss = session.run(cost, feed_dict={\n",
    "        x: feature_batch,\n",
    "        y: label_batch,\n",
    "        keep_prob: 1.0\n",
    "    })\n",
    "    validation_accuracy = session.run(accuracy, feed_dict={\n",
    "        x: valid_features,\n",
    "        y: valid_labels,\n",
    "        keep_prob: 1.\n",
    "    })\n",
    "    print('Loss: {:>10.4f} Validation Accuracy: {:.6f}'.format(loss, validation_accuracy))"
   ]
  },
  {
   "cell_type": "markdown",
   "metadata": {
    "deletable": true,
    "editable": true
   },
   "source": [
    "### Hyperparameters\n",
    "Tune the following parameters:\n",
    "* Set `epochs` to the number of iterations until the network stops learning or start overfitting\n",
    "* Set `batch_size` to the highest number that your machine has memory for.  Most people set them to common sizes of memory:\n",
    " * 64\n",
    " * 128\n",
    " * 256\n",
    " * ...\n",
    "* Set `keep_probability` to the probability of keeping a node using dropout"
   ]
  },
  {
   "cell_type": "code",
   "execution_count": 11,
   "metadata": {
    "collapsed": true,
    "deletable": true,
    "editable": true
   },
   "outputs": [],
   "source": [
    "# TODO: Tune Parameters\n",
    "epochs = 40\n",
    "batch_size = 256\n",
    "keep_probability = 0.75"
   ]
  },
  {
   "cell_type": "markdown",
   "metadata": {
    "deletable": true,
    "editable": true
   },
   "source": [
    "### Train on a Single CIFAR-10 Batch\n",
    "Instead of training the neural network on all the CIFAR-10 batches of data, let's use a single batch. This should save time while you iterate on the model to get a better accuracy.  Once the final validation accuracy is 50% or greater, run the model on all the data in the next section."
   ]
  },
  {
   "cell_type": "code",
   "execution_count": 12,
   "metadata": {
    "collapsed": false,
    "deletable": true,
    "editable": true
   },
   "outputs": [
    {
     "name": "stdout",
     "output_type": "stream",
     "text": [
      "Checking the Training on a Single Batch...\n",
      "Epoch  1, CIFAR-10 Batch 1:  Loss:     2.2620 Validation Accuracy: 0.186200\n",
      "Epoch  2, CIFAR-10 Batch 1:  Loss:     2.2319 Validation Accuracy: 0.203400\n",
      "Epoch  3, CIFAR-10 Batch 1:  Loss:     2.2144 Validation Accuracy: 0.224800\n",
      "Epoch  4, CIFAR-10 Batch 1:  Loss:     2.1896 Validation Accuracy: 0.256200\n",
      "Epoch  5, CIFAR-10 Batch 1:  Loss:     2.1531 Validation Accuracy: 0.285200\n",
      "Epoch  6, CIFAR-10 Batch 1:  Loss:     2.0925 Validation Accuracy: 0.294400\n",
      "Epoch  7, CIFAR-10 Batch 1:  Loss:     2.0469 Validation Accuracy: 0.297200\n",
      "Epoch  8, CIFAR-10 Batch 1:  Loss:     1.9701 Validation Accuracy: 0.325200\n",
      "Epoch  9, CIFAR-10 Batch 1:  Loss:     1.8987 Validation Accuracy: 0.336400\n",
      "Epoch 10, CIFAR-10 Batch 1:  Loss:     1.8575 Validation Accuracy: 0.357400\n",
      "Epoch 11, CIFAR-10 Batch 1:  Loss:     1.8191 Validation Accuracy: 0.347600\n",
      "Epoch 12, CIFAR-10 Batch 1:  Loss:     1.7849 Validation Accuracy: 0.371200\n",
      "Epoch 13, CIFAR-10 Batch 1:  Loss:     1.7563 Validation Accuracy: 0.381200\n",
      "Epoch 14, CIFAR-10 Batch 1:  Loss:     1.7107 Validation Accuracy: 0.388800\n",
      "Epoch 15, CIFAR-10 Batch 1:  Loss:     1.7008 Validation Accuracy: 0.383600\n",
      "Epoch 16, CIFAR-10 Batch 1:  Loss:     1.6531 Validation Accuracy: 0.406400\n",
      "Epoch 17, CIFAR-10 Batch 1:  Loss:     1.6116 Validation Accuracy: 0.408600\n",
      "Epoch 18, CIFAR-10 Batch 1:  Loss:     1.5881 Validation Accuracy: 0.413200\n",
      "Epoch 19, CIFAR-10 Batch 1:  Loss:     1.5490 Validation Accuracy: 0.423200\n",
      "Epoch 20, CIFAR-10 Batch 1:  Loss:     1.5158 Validation Accuracy: 0.424800\n",
      "Epoch 21, CIFAR-10 Batch 1:  Loss:     1.4632 Validation Accuracy: 0.433200\n",
      "Epoch 22, CIFAR-10 Batch 1:  Loss:     1.4203 Validation Accuracy: 0.431200\n",
      "Epoch 23, CIFAR-10 Batch 1:  Loss:     1.4177 Validation Accuracy: 0.433200\n",
      "Epoch 24, CIFAR-10 Batch 1:  Loss:     1.4021 Validation Accuracy: 0.432200\n",
      "Epoch 25, CIFAR-10 Batch 1:  Loss:     1.3284 Validation Accuracy: 0.443600\n",
      "Epoch 26, CIFAR-10 Batch 1:  Loss:     1.3280 Validation Accuracy: 0.429800\n",
      "Epoch 27, CIFAR-10 Batch 1:  Loss:     1.2992 Validation Accuracy: 0.441400\n",
      "Epoch 28, CIFAR-10 Batch 1:  Loss:     1.2747 Validation Accuracy: 0.441800\n",
      "Epoch 29, CIFAR-10 Batch 1:  Loss:     1.2849 Validation Accuracy: 0.437800\n",
      "Epoch 30, CIFAR-10 Batch 1:  Loss:     1.2535 Validation Accuracy: 0.448400\n",
      "Epoch 31, CIFAR-10 Batch 1:  Loss:     1.1896 Validation Accuracy: 0.447200\n",
      "Epoch 32, CIFAR-10 Batch 1:  Loss:     1.1752 Validation Accuracy: 0.450200\n",
      "Epoch 33, CIFAR-10 Batch 1:  Loss:     1.1636 Validation Accuracy: 0.444400\n",
      "Epoch 34, CIFAR-10 Batch 1:  Loss:     1.1419 Validation Accuracy: 0.447000\n",
      "Epoch 35, CIFAR-10 Batch 1:  Loss:     1.1072 Validation Accuracy: 0.446000\n",
      "Epoch 36, CIFAR-10 Batch 1:  Loss:     1.0929 Validation Accuracy: 0.454400\n",
      "Epoch 37, CIFAR-10 Batch 1:  Loss:     1.0891 Validation Accuracy: 0.455200\n",
      "Epoch 38, CIFAR-10 Batch 1:  Loss:     1.0999 Validation Accuracy: 0.440400\n",
      "Epoch 39, CIFAR-10 Batch 1:  Loss:     1.0667 Validation Accuracy: 0.451200\n",
      "Epoch 40, CIFAR-10 Batch 1:  Loss:     1.0521 Validation Accuracy: 0.453200\n"
     ]
    }
   ],
   "source": [
    "\"\"\"\n",
    "DON'T MODIFY ANYTHING IN THIS CELL\n",
    "\"\"\"\n",
    "print('Checking the Training on a Single Batch...')\n",
    "with tf.Session() as sess:\n",
    "    # Initializing the variables\n",
    "    sess.run(tf.global_variables_initializer())\n",
    "    \n",
    "    # Training cycle\n",
    "    for epoch in range(epochs):\n",
    "        batch_i = 1\n",
    "        for batch_features, batch_labels in helper.load_preprocess_training_batch(batch_i, batch_size):\n",
    "            train_neural_network(sess, optimizer, keep_probability, batch_features, batch_labels)\n",
    "        print('Epoch {:>2}, CIFAR-10 Batch {}:  '.format(epoch + 1, batch_i), end='')\n",
    "        print_stats(sess, batch_features, batch_labels, cost, accuracy)"
   ]
  },
  {
   "cell_type": "markdown",
   "metadata": {
    "deletable": true,
    "editable": true
   },
   "source": [
    "### Fully Train the Model\n",
    "Now that you got a good accuracy with a single CIFAR-10 batch, try it with all five batches."
   ]
  },
  {
   "cell_type": "code",
   "execution_count": 13,
   "metadata": {
    "collapsed": false,
    "deletable": true,
    "editable": true
   },
   "outputs": [
    {
     "name": "stdout",
     "output_type": "stream",
     "text": [
      "Training...\n",
      "Epoch  1, CIFAR-10 Batch 1:  Loss:     2.2773 Validation Accuracy: 0.149800\n",
      "Epoch  1, CIFAR-10 Batch 2:  Loss:     2.2671 Validation Accuracy: 0.193600\n",
      "Epoch  1, CIFAR-10 Batch 3:  Loss:     2.1057 Validation Accuracy: 0.260000\n",
      "Epoch  1, CIFAR-10 Batch 4:  Loss:     2.0892 Validation Accuracy: 0.247200\n",
      "Epoch  1, CIFAR-10 Batch 5:  Loss:     2.0025 Validation Accuracy: 0.282200\n",
      "Epoch  2, CIFAR-10 Batch 1:  Loss:     2.1539 Validation Accuracy: 0.284000\n",
      "Epoch  2, CIFAR-10 Batch 2:  Loss:     2.1147 Validation Accuracy: 0.300000\n",
      "Epoch  2, CIFAR-10 Batch 3:  Loss:     1.8724 Validation Accuracy: 0.319000\n",
      "Epoch  2, CIFAR-10 Batch 4:  Loss:     1.8826 Validation Accuracy: 0.326200\n",
      "Epoch  2, CIFAR-10 Batch 5:  Loss:     1.7976 Validation Accuracy: 0.318800\n",
      "Epoch  3, CIFAR-10 Batch 1:  Loss:     2.0454 Validation Accuracy: 0.316000\n",
      "Epoch  3, CIFAR-10 Batch 2:  Loss:     1.9101 Validation Accuracy: 0.337800\n",
      "Epoch  3, CIFAR-10 Batch 3:  Loss:     1.6898 Validation Accuracy: 0.345800\n",
      "Epoch  3, CIFAR-10 Batch 4:  Loss:     1.7020 Validation Accuracy: 0.341800\n",
      "Epoch  3, CIFAR-10 Batch 5:  Loss:     1.7098 Validation Accuracy: 0.354800\n",
      "Epoch  4, CIFAR-10 Batch 1:  Loss:     1.9113 Validation Accuracy: 0.358600\n",
      "Epoch  4, CIFAR-10 Batch 2:  Loss:     1.7574 Validation Accuracy: 0.366600\n",
      "Epoch  4, CIFAR-10 Batch 3:  Loss:     1.5912 Validation Accuracy: 0.371600\n",
      "Epoch  4, CIFAR-10 Batch 4:  Loss:     1.6519 Validation Accuracy: 0.388000\n",
      "Epoch  4, CIFAR-10 Batch 5:  Loss:     1.6045 Validation Accuracy: 0.395200\n",
      "Epoch  5, CIFAR-10 Batch 1:  Loss:     1.8830 Validation Accuracy: 0.372200\n",
      "Epoch  5, CIFAR-10 Batch 2:  Loss:     1.6857 Validation Accuracy: 0.399400\n",
      "Epoch  5, CIFAR-10 Batch 3:  Loss:     1.4911 Validation Accuracy: 0.391000\n",
      "Epoch  5, CIFAR-10 Batch 4:  Loss:     1.5961 Validation Accuracy: 0.402400\n",
      "Epoch  5, CIFAR-10 Batch 5:  Loss:     1.5445 Validation Accuracy: 0.404200\n",
      "Epoch  6, CIFAR-10 Batch 1:  Loss:     1.7438 Validation Accuracy: 0.418200\n",
      "Epoch  6, CIFAR-10 Batch 2:  Loss:     1.6090 Validation Accuracy: 0.417400\n",
      "Epoch  6, CIFAR-10 Batch 3:  Loss:     1.4059 Validation Accuracy: 0.410400\n",
      "Epoch  6, CIFAR-10 Batch 4:  Loss:     1.5410 Validation Accuracy: 0.425600\n",
      "Epoch  6, CIFAR-10 Batch 5:  Loss:     1.4629 Validation Accuracy: 0.437400\n",
      "Epoch  7, CIFAR-10 Batch 1:  Loss:     1.6857 Validation Accuracy: 0.418800\n",
      "Epoch  7, CIFAR-10 Batch 2:  Loss:     1.6441 Validation Accuracy: 0.428200\n",
      "Epoch  7, CIFAR-10 Batch 3:  Loss:     1.3448 Validation Accuracy: 0.438400\n",
      "Epoch  7, CIFAR-10 Batch 4:  Loss:     1.4623 Validation Accuracy: 0.435400\n",
      "Epoch  7, CIFAR-10 Batch 5:  Loss:     1.3885 Validation Accuracy: 0.446800\n",
      "Epoch  8, CIFAR-10 Batch 1:  Loss:     1.6272 Validation Accuracy: 0.442400\n",
      "Epoch  8, CIFAR-10 Batch 2:  Loss:     1.5407 Validation Accuracy: 0.435800\n",
      "Epoch  8, CIFAR-10 Batch 3:  Loss:     1.2875 Validation Accuracy: 0.437400\n",
      "Epoch  8, CIFAR-10 Batch 4:  Loss:     1.4442 Validation Accuracy: 0.438000\n",
      "Epoch  8, CIFAR-10 Batch 5:  Loss:     1.3649 Validation Accuracy: 0.451400\n",
      "Epoch  9, CIFAR-10 Batch 1:  Loss:     1.5440 Validation Accuracy: 0.449400\n",
      "Epoch  9, CIFAR-10 Batch 2:  Loss:     1.4871 Validation Accuracy: 0.443400\n",
      "Epoch  9, CIFAR-10 Batch 3:  Loss:     1.2609 Validation Accuracy: 0.461400\n",
      "Epoch  9, CIFAR-10 Batch 4:  Loss:     1.4095 Validation Accuracy: 0.457200\n",
      "Epoch  9, CIFAR-10 Batch 5:  Loss:     1.3253 Validation Accuracy: 0.463800\n",
      "Epoch 10, CIFAR-10 Batch 1:  Loss:     1.4676 Validation Accuracy: 0.458000\n",
      "Epoch 10, CIFAR-10 Batch 2:  Loss:     1.4277 Validation Accuracy: 0.453000\n",
      "Epoch 10, CIFAR-10 Batch 3:  Loss:     1.2116 Validation Accuracy: 0.459800\n",
      "Epoch 10, CIFAR-10 Batch 4:  Loss:     1.3810 Validation Accuracy: 0.469400\n",
      "Epoch 10, CIFAR-10 Batch 5:  Loss:     1.2865 Validation Accuracy: 0.476000\n",
      "Epoch 11, CIFAR-10 Batch 1:  Loss:     1.4459 Validation Accuracy: 0.466400\n",
      "Epoch 11, CIFAR-10 Batch 2:  Loss:     1.4598 Validation Accuracy: 0.479800\n",
      "Epoch 11, CIFAR-10 Batch 3:  Loss:     1.1751 Validation Accuracy: 0.468800\n",
      "Epoch 11, CIFAR-10 Batch 4:  Loss:     1.3479 Validation Accuracy: 0.477200\n",
      "Epoch 11, CIFAR-10 Batch 5:  Loss:     1.2905 Validation Accuracy: 0.490600\n",
      "Epoch 12, CIFAR-10 Batch 1:  Loss:     1.4002 Validation Accuracy: 0.490800\n",
      "Epoch 12, CIFAR-10 Batch 2:  Loss:     1.3854 Validation Accuracy: 0.484200\n",
      "Epoch 12, CIFAR-10 Batch 3:  Loss:     1.1531 Validation Accuracy: 0.483200\n",
      "Epoch 12, CIFAR-10 Batch 4:  Loss:     1.3587 Validation Accuracy: 0.472800\n",
      "Epoch 12, CIFAR-10 Batch 5:  Loss:     1.2708 Validation Accuracy: 0.489000\n",
      "Epoch 13, CIFAR-10 Batch 1:  Loss:     1.3799 Validation Accuracy: 0.487000\n",
      "Epoch 13, CIFAR-10 Batch 2:  Loss:     1.3361 Validation Accuracy: 0.488000\n",
      "Epoch 13, CIFAR-10 Batch 3:  Loss:     1.1524 Validation Accuracy: 0.484000\n",
      "Epoch 13, CIFAR-10 Batch 4:  Loss:     1.2950 Validation Accuracy: 0.495000\n",
      "Epoch 13, CIFAR-10 Batch 5:  Loss:     1.2535 Validation Accuracy: 0.496400\n",
      "Epoch 14, CIFAR-10 Batch 1:  Loss:     1.3829 Validation Accuracy: 0.486000\n",
      "Epoch 14, CIFAR-10 Batch 2:  Loss:     1.3529 Validation Accuracy: 0.495200\n",
      "Epoch 14, CIFAR-10 Batch 3:  Loss:     1.1007 Validation Accuracy: 0.498600\n",
      "Epoch 14, CIFAR-10 Batch 4:  Loss:     1.2516 Validation Accuracy: 0.497800\n",
      "Epoch 14, CIFAR-10 Batch 5:  Loss:     1.1989 Validation Accuracy: 0.509600\n",
      "Epoch 15, CIFAR-10 Batch 1:  Loss:     1.3257 Validation Accuracy: 0.501200\n",
      "Epoch 15, CIFAR-10 Batch 2:  Loss:     1.3053 Validation Accuracy: 0.498600\n",
      "Epoch 15, CIFAR-10 Batch 3:  Loss:     1.1004 Validation Accuracy: 0.507000\n",
      "Epoch 15, CIFAR-10 Batch 4:  Loss:     1.2590 Validation Accuracy: 0.503200\n",
      "Epoch 15, CIFAR-10 Batch 5:  Loss:     1.1629 Validation Accuracy: 0.508600\n",
      "Epoch 16, CIFAR-10 Batch 1:  Loss:     1.2975 Validation Accuracy: 0.515400\n",
      "Epoch 16, CIFAR-10 Batch 2:  Loss:     1.2918 Validation Accuracy: 0.512800\n",
      "Epoch 16, CIFAR-10 Batch 3:  Loss:     1.0535 Validation Accuracy: 0.510200\n",
      "Epoch 16, CIFAR-10 Batch 4:  Loss:     1.2115 Validation Accuracy: 0.507400\n",
      "Epoch 16, CIFAR-10 Batch 5:  Loss:     1.1310 Validation Accuracy: 0.520600\n",
      "Epoch 17, CIFAR-10 Batch 1:  Loss:     1.2558 Validation Accuracy: 0.515200\n",
      "Epoch 17, CIFAR-10 Batch 2:  Loss:     1.2540 Validation Accuracy: 0.511200\n",
      "Epoch 17, CIFAR-10 Batch 3:  Loss:     1.0269 Validation Accuracy: 0.515000\n",
      "Epoch 17, CIFAR-10 Batch 4:  Loss:     1.1774 Validation Accuracy: 0.516400\n",
      "Epoch 17, CIFAR-10 Batch 5:  Loss:     1.0970 Validation Accuracy: 0.523800\n",
      "Epoch 18, CIFAR-10 Batch 1:  Loss:     1.2364 Validation Accuracy: 0.523400\n",
      "Epoch 18, CIFAR-10 Batch 2:  Loss:     1.2246 Validation Accuracy: 0.515600\n",
      "Epoch 18, CIFAR-10 Batch 3:  Loss:     1.0321 Validation Accuracy: 0.524200\n",
      "Epoch 18, CIFAR-10 Batch 4:  Loss:     1.2064 Validation Accuracy: 0.524200\n",
      "Epoch 18, CIFAR-10 Batch 5:  Loss:     1.0988 Validation Accuracy: 0.531200\n",
      "Epoch 19, CIFAR-10 Batch 1:  Loss:     1.2394 Validation Accuracy: 0.529200\n",
      "Epoch 19, CIFAR-10 Batch 2:  Loss:     1.2019 Validation Accuracy: 0.518600\n",
      "Epoch 19, CIFAR-10 Batch 3:  Loss:     1.0485 Validation Accuracy: 0.528200\n",
      "Epoch 19, CIFAR-10 Batch 4:  Loss:     1.1522 Validation Accuracy: 0.526200\n",
      "Epoch 19, CIFAR-10 Batch 5:  Loss:     1.0649 Validation Accuracy: 0.529600\n",
      "Epoch 20, CIFAR-10 Batch 1:  Loss:     1.2050 Validation Accuracy: 0.527000\n",
      "Epoch 20, CIFAR-10 Batch 2:  Loss:     1.1541 Validation Accuracy: 0.524800\n",
      "Epoch 20, CIFAR-10 Batch 3:  Loss:     1.0268 Validation Accuracy: 0.526600\n",
      "Epoch 20, CIFAR-10 Batch 4:  Loss:     1.1565 Validation Accuracy: 0.524200\n",
      "Epoch 20, CIFAR-10 Batch 5:  Loss:     1.0695 Validation Accuracy: 0.540400\n",
      "Epoch 21, CIFAR-10 Batch 1:  Loss:     1.1530 Validation Accuracy: 0.540600\n",
      "Epoch 21, CIFAR-10 Batch 2:  Loss:     1.1723 Validation Accuracy: 0.532400\n",
      "Epoch 21, CIFAR-10 Batch 3:  Loss:     1.0054 Validation Accuracy: 0.542800\n",
      "Epoch 21, CIFAR-10 Batch 4:  Loss:     1.1352 Validation Accuracy: 0.533600\n",
      "Epoch 21, CIFAR-10 Batch 5:  Loss:     1.0569 Validation Accuracy: 0.543000\n",
      "Epoch 22, CIFAR-10 Batch 1:  Loss:     1.1185 Validation Accuracy: 0.536600\n",
      "Epoch 22, CIFAR-10 Batch 2:  Loss:     1.1606 Validation Accuracy: 0.537000\n",
      "Epoch 22, CIFAR-10 Batch 3:  Loss:     0.9690 Validation Accuracy: 0.545400\n",
      "Epoch 22, CIFAR-10 Batch 4:  Loss:     1.1007 Validation Accuracy: 0.547000\n",
      "Epoch 22, CIFAR-10 Batch 5:  Loss:     1.0228 Validation Accuracy: 0.539400\n",
      "Epoch 23, CIFAR-10 Batch 1:  Loss:     1.0794 Validation Accuracy: 0.544000\n",
      "Epoch 23, CIFAR-10 Batch 2:  Loss:     1.1121 Validation Accuracy: 0.533000\n",
      "Epoch 23, CIFAR-10 Batch 3:  Loss:     0.9762 Validation Accuracy: 0.544400\n",
      "Epoch 23, CIFAR-10 Batch 4:  Loss:     1.1142 Validation Accuracy: 0.542600\n",
      "Epoch 23, CIFAR-10 Batch 5:  Loss:     0.9895 Validation Accuracy: 0.552400\n",
      "Epoch 24, CIFAR-10 Batch 1:  Loss:     1.0593 Validation Accuracy: 0.543600\n",
      "Epoch 24, CIFAR-10 Batch 2:  Loss:     1.1113 Validation Accuracy: 0.550200\n",
      "Epoch 24, CIFAR-10 Batch 3:  Loss:     0.9461 Validation Accuracy: 0.551400\n",
      "Epoch 24, CIFAR-10 Batch 4:  Loss:     1.1056 Validation Accuracy: 0.543400\n",
      "Epoch 24, CIFAR-10 Batch 5:  Loss:     0.9834 Validation Accuracy: 0.551600\n",
      "Epoch 25, CIFAR-10 Batch 1:  Loss:     1.0292 Validation Accuracy: 0.552400\n",
      "Epoch 25, CIFAR-10 Batch 2:  Loss:     1.0835 Validation Accuracy: 0.554600\n",
      "Epoch 25, CIFAR-10 Batch 3:  Loss:     0.9500 Validation Accuracy: 0.556400\n",
      "Epoch 25, CIFAR-10 Batch 4:  Loss:     1.0704 Validation Accuracy: 0.552000\n",
      "Epoch 25, CIFAR-10 Batch 5:  Loss:     0.9602 Validation Accuracy: 0.562400\n",
      "Epoch 26, CIFAR-10 Batch 1:  Loss:     1.0170 Validation Accuracy: 0.554000\n",
      "Epoch 26, CIFAR-10 Batch 2:  Loss:     1.0752 Validation Accuracy: 0.540600\n",
      "Epoch 26, CIFAR-10 Batch 3:  Loss:     0.9185 Validation Accuracy: 0.556200\n",
      "Epoch 26, CIFAR-10 Batch 4:  Loss:     1.0705 Validation Accuracy: 0.556600\n",
      "Epoch 26, CIFAR-10 Batch 5:  Loss:     0.9699 Validation Accuracy: 0.553800\n",
      "Epoch 27, CIFAR-10 Batch 1:  Loss:     1.0148 Validation Accuracy: 0.542000\n",
      "Epoch 27, CIFAR-10 Batch 2:  Loss:     1.0557 Validation Accuracy: 0.544800\n",
      "Epoch 27, CIFAR-10 Batch 3:  Loss:     0.9094 Validation Accuracy: 0.558200\n",
      "Epoch 27, CIFAR-10 Batch 4:  Loss:     1.0613 Validation Accuracy: 0.552800\n",
      "Epoch 27, CIFAR-10 Batch 5:  Loss:     0.9424 Validation Accuracy: 0.560600\n",
      "Epoch 28, CIFAR-10 Batch 1:  Loss:     0.9902 Validation Accuracy: 0.556000\n",
      "Epoch 28, CIFAR-10 Batch 2:  Loss:     1.0074 Validation Accuracy: 0.554800\n",
      "Epoch 28, CIFAR-10 Batch 3:  Loss:     0.8861 Validation Accuracy: 0.563200\n",
      "Epoch 28, CIFAR-10 Batch 4:  Loss:     1.0294 Validation Accuracy: 0.552400\n",
      "Epoch 28, CIFAR-10 Batch 5:  Loss:     0.9271 Validation Accuracy: 0.562000\n",
      "Epoch 29, CIFAR-10 Batch 1:  Loss:     0.9649 Validation Accuracy: 0.557000\n",
      "Epoch 29, CIFAR-10 Batch 2:  Loss:     1.0342 Validation Accuracy: 0.556600\n",
      "Epoch 29, CIFAR-10 Batch 3:  Loss:     0.8742 Validation Accuracy: 0.569200\n",
      "Epoch 29, CIFAR-10 Batch 4:  Loss:     1.0352 Validation Accuracy: 0.559600\n",
      "Epoch 29, CIFAR-10 Batch 5:  Loss:     0.9174 Validation Accuracy: 0.561400\n",
      "Epoch 30, CIFAR-10 Batch 1:  Loss:     0.9346 Validation Accuracy: 0.563800\n",
      "Epoch 30, CIFAR-10 Batch 2:  Loss:     1.0304 Validation Accuracy: 0.562000\n",
      "Epoch 30, CIFAR-10 Batch 3:  Loss:     0.8504 Validation Accuracy: 0.564200\n",
      "Epoch 30, CIFAR-10 Batch 4:  Loss:     0.9685 Validation Accuracy: 0.557600\n",
      "Epoch 30, CIFAR-10 Batch 5:  Loss:     0.9052 Validation Accuracy: 0.571800\n",
      "Epoch 31, CIFAR-10 Batch 1:  Loss:     0.9308 Validation Accuracy: 0.558800\n",
      "Epoch 31, CIFAR-10 Batch 2:  Loss:     1.0006 Validation Accuracy: 0.561800\n",
      "Epoch 31, CIFAR-10 Batch 3:  Loss:     0.8803 Validation Accuracy: 0.566600\n",
      "Epoch 31, CIFAR-10 Batch 4:  Loss:     0.9848 Validation Accuracy: 0.557800\n",
      "Epoch 31, CIFAR-10 Batch 5:  Loss:     0.9276 Validation Accuracy: 0.557000\n",
      "Epoch 32, CIFAR-10 Batch 1:  Loss:     0.9341 Validation Accuracy: 0.563000\n",
      "Epoch 32, CIFAR-10 Batch 2:  Loss:     0.9933 Validation Accuracy: 0.558200\n",
      "Epoch 32, CIFAR-10 Batch 3:  Loss:     0.8251 Validation Accuracy: 0.563600\n",
      "Epoch 32, CIFAR-10 Batch 4:  Loss:     0.9959 Validation Accuracy: 0.562000\n",
      "Epoch 32, CIFAR-10 Batch 5:  Loss:     0.8924 Validation Accuracy: 0.566400\n",
      "Epoch 33, CIFAR-10 Batch 1:  Loss:     0.9079 Validation Accuracy: 0.558400\n",
      "Epoch 33, CIFAR-10 Batch 2:  Loss:     0.9792 Validation Accuracy: 0.554200\n",
      "Epoch 33, CIFAR-10 Batch 3:  Loss:     0.8392 Validation Accuracy: 0.569800\n",
      "Epoch 33, CIFAR-10 Batch 4:  Loss:     0.9548 Validation Accuracy: 0.566400\n",
      "Epoch 33, CIFAR-10 Batch 5:  Loss:     0.8876 Validation Accuracy: 0.571600\n",
      "Epoch 34, CIFAR-10 Batch 1:  Loss:     0.8792 Validation Accuracy: 0.562400\n",
      "Epoch 34, CIFAR-10 Batch 2:  Loss:     0.9549 Validation Accuracy: 0.566200\n",
      "Epoch 34, CIFAR-10 Batch 3:  Loss:     0.8145 Validation Accuracy: 0.573600\n",
      "Epoch 34, CIFAR-10 Batch 4:  Loss:     0.9228 Validation Accuracy: 0.568000\n",
      "Epoch 34, CIFAR-10 Batch 5:  Loss:     0.8820 Validation Accuracy: 0.573400\n",
      "Epoch 35, CIFAR-10 Batch 1:  Loss:     0.9008 Validation Accuracy: 0.565800\n",
      "Epoch 35, CIFAR-10 Batch 2:  Loss:     0.9842 Validation Accuracy: 0.550800\n",
      "Epoch 35, CIFAR-10 Batch 3:  Loss:     0.7985 Validation Accuracy: 0.573800\n",
      "Epoch 35, CIFAR-10 Batch 4:  Loss:     0.9287 Validation Accuracy: 0.563200\n",
      "Epoch 35, CIFAR-10 Batch 5:  Loss:     0.9083 Validation Accuracy: 0.564800\n",
      "Epoch 36, CIFAR-10 Batch 1:  Loss:     0.8709 Validation Accuracy: 0.567000\n",
      "Epoch 36, CIFAR-10 Batch 2:  Loss:     0.9158 Validation Accuracy: 0.562200\n",
      "Epoch 36, CIFAR-10 Batch 3:  Loss:     0.8011 Validation Accuracy: 0.571200\n",
      "Epoch 36, CIFAR-10 Batch 4:  Loss:     0.9165 Validation Accuracy: 0.563000\n",
      "Epoch 36, CIFAR-10 Batch 5:  Loss:     0.8685 Validation Accuracy: 0.575200\n",
      "Epoch 37, CIFAR-10 Batch 1:  Loss:     0.8594 Validation Accuracy: 0.564000\n",
      "Epoch 37, CIFAR-10 Batch 2:  Loss:     0.9187 Validation Accuracy: 0.566200\n",
      "Epoch 37, CIFAR-10 Batch 3:  Loss:     0.7665 Validation Accuracy: 0.579600\n",
      "Epoch 37, CIFAR-10 Batch 4:  Loss:     0.8947 Validation Accuracy: 0.572800\n",
      "Epoch 37, CIFAR-10 Batch 5:  Loss:     0.8545 Validation Accuracy: 0.573000\n",
      "Epoch 38, CIFAR-10 Batch 1:  Loss:     0.8895 Validation Accuracy: 0.562200\n",
      "Epoch 38, CIFAR-10 Batch 2:  Loss:     0.9084 Validation Accuracy: 0.561600\n",
      "Epoch 38, CIFAR-10 Batch 3:  Loss:     0.7837 Validation Accuracy: 0.574400\n",
      "Epoch 38, CIFAR-10 Batch 4:  Loss:     0.8751 Validation Accuracy: 0.568200\n",
      "Epoch 38, CIFAR-10 Batch 5:  Loss:     0.8792 Validation Accuracy: 0.575600\n",
      "Epoch 39, CIFAR-10 Batch 1:  Loss:     0.8592 Validation Accuracy: 0.569800\n",
      "Epoch 39, CIFAR-10 Batch 2:  Loss:     0.8799 Validation Accuracy: 0.565000\n",
      "Epoch 39, CIFAR-10 Batch 3:  Loss:     0.7879 Validation Accuracy: 0.575200\n",
      "Epoch 39, CIFAR-10 Batch 4:  Loss:     0.8881 Validation Accuracy: 0.572000\n",
      "Epoch 39, CIFAR-10 Batch 5:  Loss:     0.8471 Validation Accuracy: 0.580800\n",
      "Epoch 40, CIFAR-10 Batch 1:  Loss:     0.8267 Validation Accuracy: 0.572400\n",
      "Epoch 40, CIFAR-10 Batch 2:  Loss:     0.8932 Validation Accuracy: 0.568200\n",
      "Epoch 40, CIFAR-10 Batch 3:  Loss:     0.7640 Validation Accuracy: 0.577600\n",
      "Epoch 40, CIFAR-10 Batch 4:  Loss:     0.8730 Validation Accuracy: 0.575600\n",
      "Epoch 40, CIFAR-10 Batch 5:  Loss:     0.8465 Validation Accuracy: 0.578600\n"
     ]
    }
   ],
   "source": [
    "\"\"\"\n",
    "DON'T MODIFY ANYTHING IN THIS CELL\n",
    "\"\"\"\n",
    "save_model_path = './image_classification'\n",
    "\n",
    "print('Training...')\n",
    "with tf.Session() as sess:\n",
    "    # Initializing the variables\n",
    "    sess.run(tf.global_variables_initializer())\n",
    "    \n",
    "    # Training cycle\n",
    "    for epoch in range(epochs):\n",
    "        # Loop over all batches\n",
    "        n_batches = 5\n",
    "        for batch_i in range(1, n_batches + 1):\n",
    "            for batch_features, batch_labels in helper.load_preprocess_training_batch(batch_i, batch_size):\n",
    "                train_neural_network(sess, optimizer, keep_probability, batch_features, batch_labels)\n",
    "            print('Epoch {:>2}, CIFAR-10 Batch {}:  '.format(epoch + 1, batch_i), end='')\n",
    "            print_stats(sess, batch_features, batch_labels, cost, accuracy)\n",
    "            \n",
    "    # Save Model\n",
    "    saver = tf.train.Saver()\n",
    "    save_path = saver.save(sess, save_model_path)"
   ]
  },
  {
   "cell_type": "markdown",
   "metadata": {
    "deletable": true,
    "editable": true
   },
   "source": [
    "# Checkpoint\n",
    "The model has been saved to disk.\n",
    "## Test Model\n",
    "Test your model against the test dataset.  This will be your final accuracy. You should have an accuracy greater than 50%. If you don't, keep tweaking the model architecture and parameters."
   ]
  },
  {
   "cell_type": "code",
   "execution_count": 14,
   "metadata": {
    "collapsed": false,
    "deletable": true,
    "editable": true
   },
   "outputs": [
    {
     "name": "stdout",
     "output_type": "stream",
     "text": [
      "Testing Accuracy: 0.57646484375\n",
      "\n"
     ]
    },
    {
     "data": {
      "image/png": "[encoded data removed]",
      "text/plain": [
       "<matplotlib.figure.Figure at 0x7f9100736c88>"
      ]
     },
     "metadata": {
      "image/png": {
       "height": 319,
       "width": 355
      }
     },
     "output_type": "display_data"
    }
   ],
   "source": [
    "\"\"\"\n",
    "DON'T MODIFY ANYTHING IN THIS CELL\n",
    "\"\"\"\n",
    "%matplotlib inline\n",
    "%config InlineBackend.figure_format = 'retina'\n",
    "\n",
    "import tensorflow as tf\n",
    "import pickle\n",
    "import helper\n",
    "import random\n",
    "\n",
    "# Set batch size if not already set\n",
    "try:\n",
    "    if batch_size:\n",
    "        pass\n",
    "except NameError:\n",
    "    batch_size = 64\n",
    "\n",
    "save_model_path = './image_classification'\n",
    "n_samples = 4\n",
    "top_n_predictions = 3\n",
    "\n",
    "def test_model():\n",
    "    \"\"\"\n",
    "    Test the saved model against the test dataset\n",
    "    \"\"\"\n",
    "\n",
    "    test_features, test_labels = pickle.load(open('preprocess_test.p', mode='rb'))\n",
    "    loaded_graph = tf.Graph()\n",
    "\n",
    "    with tf.Session(graph=loaded_graph) as sess:\n",
    "        # Load model\n",
    "        loader = tf.train.import_meta_graph(save_model_path + '.meta')\n",
    "        loader.restore(sess, save_model_path)\n",
    "\n",
    "        # Get Tensors from loaded model\n",
    "        loaded_x = loaded_graph.get_tensor_by_name('x:0')\n",
    "        loaded_y = loaded_graph.get_tensor_by_name('y:0')\n",
    "        loaded_keep_prob = loaded_graph.get_tensor_by_name('keep_prob:0')\n",
    "        loaded_logits = loaded_graph.get_tensor_by_name('logits:0')\n",
    "        loaded_acc = loaded_graph.get_tensor_by_name('accuracy:0')\n",
    "        \n",
    "        # Get accuracy in batches for memory limitations\n",
    "        test_batch_acc_total = 0\n",
    "        test_batch_count = 0\n",
    "        \n",
    "        for test_feature_batch, test_label_batch in helper.batch_features_labels(test_features, test_labels, batch_size):\n",
    "            test_batch_acc_total += sess.run(\n",
    "                loaded_acc,\n",
    "                feed_dict={loaded_x: test_feature_batch, loaded_y: test_label_batch, loaded_keep_prob: 1.0})\n",
    "            test_batch_count += 1\n",
    "\n",
    "        print('Testing Accuracy: {}\\n'.format(test_batch_acc_total/test_batch_count))\n",
    "\n",
    "        # Print Random Samples\n",
    "        random_test_features, random_test_labels = tuple(zip(*random.sample(list(zip(test_features, test_labels)), n_samples)))\n",
    "        random_test_predictions = sess.run(\n",
    "            tf.nn.top_k(tf.nn.softmax(loaded_logits), top_n_predictions),\n",
    "            feed_dict={loaded_x: random_test_features, loaded_y: random_test_labels, loaded_keep_prob: 1.0})\n",
    "        helper.display_image_predictions(random_test_features, random_test_labels, random_test_predictions)\n",
    "\n",
    "\n",
    "test_model()"
   ]
  },
  {
   "cell_type": "markdown",
   "metadata": {
    "deletable": true,
    "editable": true
   },
   "source": [
    "## Why 50-80% Accuracy?\n",
    "You might be wondering why you can't get an accuracy any higher. First things first, 50% isn't bad for a simple CNN.  Pure guessing would get you 10% accuracy. However, you might notice people are getting scores [well above 80%](http://rodrigob.github.io/are_we_there_yet/build/classification_datasets_results.html#43494641522d3130).  That's because we haven't taught you all there is to know about neural networks. We still need to cover a few more techniques.\n",
    "## Submitting This Project\n",
    "When submitting this project, make sure to run all the cells before saving the notebook.  Save the notebook file as \"dlnd_image_classification.ipynb\" and save it as a HTML file under \"File\" -> \"Download as\".  Include the \"helper.py\" and \"problem_unittests.py\" files in your submission."
   ]
  }
 ],
 "metadata": {
  "kernelspec": {
   "display_name": "Python 3",
   "language": "python",
   "name": "python3"
  },
  "language_info": {
   "codemirror_mode": {
    "name": "ipython",
    "version": 3
   },
   "file_extension": ".py",
   "mimetype": "text/x-python",
   "name": "python",
   "nbconvert_exporter": "python",
   "pygments_lexer": "ipython3",
   "version": "3.5.4"
  }
 },
 "nbformat": 4,
 "nbformat_minor": 1
}
